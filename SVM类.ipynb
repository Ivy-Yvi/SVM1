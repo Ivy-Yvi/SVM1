{
 "cells": [
  {
   "cell_type": "code",
   "execution_count": 1,
   "id": "38d1c7e3",
   "metadata": {},
   "outputs": [],
   "source": [
    "from sklearn.datasets import load_iris\n",
    "from sklearn.model_selection import train_test_split\n",
    "from sklearn.svm import SVC\n",
    "from sklearn.preprocessing import StandardScaler\n",
    "from sklearn.metrics import classification_report"
   ]
  },
  {
   "cell_type": "code",
   "execution_count": 2,
   "id": "5501e524",
   "metadata": {},
   "outputs": [],
   "source": [
    "class Support_Vector_Machine():\n",
    "\n",
    "    def __init__(self):\n",
    "        self.dataset = load_iris()\n",
    "\n",
    "    def Train_and_split(self):\n",
    "        \"\"\"\n",
    "        划分数据集\n",
    "        :return:\n",
    "        \"\"\"\n",
    "        X_train, X_test, y_train, y_test = train_test_split(self.dataset.data, self.dataset.target, test_size=0.25,\n",
    "                                                            random_state=0)\n",
    "        return X_train, X_test, y_train, y_test\n",
    "\n",
    "    def standscaler(self, X_train, X_test):\n",
    "        \"\"\"\n",
    "        特征工程标准化\n",
    "        :param X_train:\n",
    "        :param X_test:\n",
    "        :return:\n",
    "        \"\"\"\n",
    "        # 特征工程标准化\n",
    "        scaler = StandardScaler()\n",
    "        x_train = scaler.fit_transform(X_train)\n",
    "        x_test = scaler.fit_transform(X_test)\n",
    "        return x_train, x_test\n",
    "\n",
    "    def Estimator(self, x_train, y_train, x_test, y_test):\n",
    "        \"\"\"\n",
    "        训练模型，并且预估\n",
    "        :param x_train:\n",
    "        :param y_train:\n",
    "        :return:\n",
    "        \"\"\"\n",
    "        estimator = SVC(kernel='linear', random_state=0)\n",
    "        estimator.fit(x_train, y_train)\n",
    "\n",
    "        # 开始模型评估，对比真实值\n",
    "        y_predict = estimator.predict(x_test)\n",
    "        print('y_predict:\\n', y_predict)\n",
    "        print('直接对比真实值与预测值:\\n', y_test == y_predict)\n",
    "\n",
    "        # 计算准确率\n",
    "        score = estimator.score(x_test, y_test)\n",
    "        print('准确率为：\\n', score)\n",
    "        print('======' * 15)\n",
    "        # 打印分类报告\n",
    "        print('分类报告为： \\n', classification_report(y_test, y_predict))\n",
    "\n",
    "    def main(self):\n",
    "        X_train, X_test, y_train, y_test = self.Train_and_split()\n",
    "        x_train, x_test = self.standscaler(X_train=X_train, X_test=X_test)\n",
    "        self.Estimator(x_train=x_train, x_test=x_test, y_train=y_train, y_test=y_test)"
   ]
  },
  {
   "cell_type": "code",
   "execution_count": 3,
   "id": "904cce1e",
   "metadata": {},
   "outputs": [
    {
     "name": "stdout",
     "output_type": "stream",
     "text": [
      "y_predict:\n",
      " [2 1 0 2 0 2 0 1 1 1 2 1 1 1 1 0 1 1 0 0 2 2 0 0 2 0 0 1 1 0 2 2 0 2 2 1 0\n",
      " 2]\n",
      "直接对比真实值与预测值:\n",
      " [ True  True  True  True  True  True  True  True  True  True  True  True\n",
      "  True  True  True  True  True  True  True  True  True False  True  True\n",
      "  True  True  True  True  True  True  True False  True  True  True  True\n",
      "  True False]\n",
      "准确率为：\n",
      " 0.9210526315789473\n",
      "==========================================================================================\n",
      "分类报告为： \n",
      "               precision    recall  f1-score   support\n",
      "\n",
      "           0       1.00      1.00      1.00        13\n",
      "           1       1.00      0.81      0.90        16\n",
      "           2       0.75      1.00      0.86         9\n",
      "\n",
      "    accuracy                           0.92        38\n",
      "   macro avg       0.92      0.94      0.92        38\n",
      "weighted avg       0.94      0.92      0.92        38\n",
      "\n"
     ]
    }
   ],
   "source": [
    "svm = Support_Vector_Machine()\n",
    "svm.main()"
   ]
  },
  {
   "cell_type": "code",
   "execution_count": null,
   "id": "3854e521",
   "metadata": {},
   "outputs": [],
   "source": []
  }
 ],
 "metadata": {
  "kernelspec": {
   "display_name": "Python 3",
   "language": "python",
   "name": "python3"
  },
  "language_info": {
   "codemirror_mode": {
    "name": "ipython",
    "version": 3
   },
   "file_extension": ".py",
   "mimetype": "text/x-python",
   "name": "python",
   "nbconvert_exporter": "python",
   "pygments_lexer": "ipython3",
   "version": "3.8.4"
  }
 },
 "nbformat": 4,
 "nbformat_minor": 5
}
